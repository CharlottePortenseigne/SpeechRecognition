{
  "cells": [
    {
      "cell_type": "markdown",
      "metadata": {},
      "source": [
        "# Speech to Text #"
      ]
    },
    {
      "cell_type": "markdown",
      "metadata": {},
      "source": [
        "## Library Import ##"
      ]
    },
    {
      "cell_type": "code",
      "execution_count": 1,
      "metadata": {},
      "outputs": [],
      "source": [
        "# pip install SpeechRecognition\n",
        "# pip install pyttsx3\n",
        "# pip install pipwin\n",
        "# pipwin install pyaudio"
      ]
    },
    {
      "cell_type": "code",
      "execution_count": 1,
      "metadata": {},
      "outputs": [],
      "source": [
        "import speech_recognition as sr\n",
        "import pyttsx3"
      ]
    },
    {
      "cell_type": "code",
      "execution_count": 2,
      "metadata": {},
      "outputs": [],
      "source": [
        "# Initialize the recognizer\n",
        "r = sr.Recognizer()\n",
        "\n",
        "# Function to convert text to speech\n",
        "def SpeakText(command):\n",
        "    # Initialize the engine\n",
        "    engine = pyttsx3.init()\n",
        "    engine.say(command) # go through what we said and run it back\n",
        "    engine.runAndWait()\n",
        "\n",
        "# SpeakText('Hello mon ami')"
      ]
    },
    {
      "cell_type": "code",
      "execution_count": 3,
      "metadata": {},
      "outputs": [
        {
          "name": "stdout",
          "output_type": "stream",
          "text": [
            "silence s'il vous plaît, nous calibrons le bruit en background\n",
            "Calibré, maintenant vous pouvez parler\n",
            "Est-ce que vous avez dit : videos about zombies\n"
          ]
        }
      ],
      "source": [
        "# AttributeError: Could not find PyAudio; check installation \n",
        "# even if i try to install PyAudio\n",
        "\n",
        "# with the microphone as source for input\n",
        "with sr.Microphone() as source2:\n",
        "    # wait for a second to let the recognizer adjust the energy\n",
        "    # threshold based on the surrounding noise level\n",
        "\n",
        "    print(\"silence s'il vous plaît, nous calibrons le bruit en background\")\n",
        "    r.adjust_for_ambient_noise(source2, duration=2)\n",
        "    print(\"Calibré, maintenant vous pouvez parler\")\n",
        "\n",
        "    # listens for the user's input\n",
        "    audio2 = r.listen(source2)\n",
        "\n",
        "    # using gogle to recognize audio\n",
        "    MyText = r.recognize_google(audio2)\n",
        "    MyText = MyText.lower()\n",
        "    \n",
        "    print(\"Est-ce que vous avez dit : \" + MyText)"
      ]
    }
  ],
  "metadata": {
    "accelerator": "GPU",
    "colab": {
      "collapsed_sections": [],
      "name": "fake-news.ipynb",
      "provenance": []
    },
    "kernelspec": {
      "display_name": "Python 3",
      "name": "python3"
    },
    "language_info": {
      "codemirror_mode": {
        "name": "ipython",
        "version": 3
      },
      "file_extension": ".py",
      "mimetype": "text/x-python",
      "name": "python",
      "nbconvert_exporter": "python",
      "pygments_lexer": "ipython3",
      "version": "3.8.5"
    }
  },
  "nbformat": 4,
  "nbformat_minor": 0
}
